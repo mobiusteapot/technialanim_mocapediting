{
 "cells": [
  {
   "cell_type": "markdown",
   "metadata": {},
   "source": [
    "# Assignment 1. Traditional Animation\n",
    "\n",
    "This is the start code for miniproject 1. Please refer to the [course website](http://graphics.cs.cmu.edu/nsp/course/15464-s19/www/assignments/miniProject1.htm) for instructions.\n",
    "\n",
    "## Part I. Set up environment\n",
    "- Python3.7: [https://www.anaconda.com/distribution/](https://www.anaconda.com/distribution/)\n",
    "- ffmpeg: [https://www.ffmpeg.org/download.html](https://www.ffmpeg.org/download.html)"
   ]
  },
  {
   "cell_type": "markdown",
   "metadata": {},
   "source": [
    "## Part II. Understand data\n",
    "Sample motions are given under data folder in BVH format. BVH format has two parts, i.e. skeleton hierarchy and motion. $\\bf{HIERARCHY}$ section defines joint names, joint relationship, degree of freedoms, and the order of euler angles. $\\bf{MOTION}$ section defines number of frames, frame time interval, and the value for each degree of freedoms per joint per frame. Here is one simplified example of bvh file:\n",
    "```\n",
    "HIERARCHY\n",
    "ROOT Hips\n",
    "{\n",
    "\tOFFSET 0.000000 0.000000 0.000000\n",
    "\tCHANNELS 6 Xposition Yposition Zposition Zrotation Yrotation Xrotation \n",
    "\tJOINT Spine\n",
    "\t{\n",
    "\t\tOFFSET 0.000000 10.000000 0.000000\n",
    "\t\tCHANNELS 3 Zrotation Yrotation Xrotation\n",
    "\t\tEnd Site\n",
    "\t\t{\n",
    "\t\t\tOFFSET 0.000000 10.000000 0.000000\n",
    "\t\t} \n",
    "\t}\n",
    "}\n",
    "MOTION\n",
    "Frames: 2\n",
    "Frame Time: 0.033333\n",
    "0 0 0 0 0 0 0 0 0\n",
    "0 0 0 0 0 0 0 0 90\n",
    "```\n",
    "\n",
    "In $\\bf{HIERARCHY}$ section, we could read\n",
    "- Joint names: There are three joints, \"Hips\", \"Spine\", and an end site. \n",
    "- Joint relationship (tree structure): \"Hips\" is the parent joint of \"Spine\", and \"Spine\" is the parent joint of the end site. \n",
    "- Degree of freedoms: \"Hips\" has 6 degree of freedom (i.e. 6 channels).\n",
    "- Order of Euler angle: The order of rotations channels is the order or euler angle. Here, the euler angle order is ZYX, i.e. $v'=R_ZR_YR_Xv$\n",
    "\n",
    "In $\\bf{MOTION}$ section, we could read\n",
    "- Number of frames: 2\n",
    "- Frame time interval: 0.033333, i.e. 30 fps\n",
    "- Motion data for each degree of frame per frame: There are 2 lines and each line represent one time frame. The visualization of these two frames look like\n",
    "\n",
    "![alt text](data/Simple.jpg)"
   ]
  },
  {
   "cell_type": "markdown",
   "metadata": {},
   "source": [
    "## Part III. Load and save BVH files\n",
    "We have already provided start code to load and save bvh files"
   ]
  },
  {
   "cell_type": "code",
   "execution_count": 2,
   "metadata": {},
   "outputs": [
    {
     "data": {
      "image/png": "[encoded data removed]",
      "text/plain": [
       "<Figure size 640x480 with 1 Axes>"
      ]
     },
     "metadata": {},
     "output_type": "display_data"
    }
   ],
   "source": [
    "import os\n",
    "import argparse\n",
    "import numpy as np\n",
    "import bezier\n",
    "import matplotlib.pyplot as plt\n",
    "\n",
    "import sys\n",
    "sys.path.append('common')\n",
    "from BVH import load, save\n",
    "from Quaternions import Quaternions\n",
    "\n",
    "src_path = 'data/Walking_01.bvh'\n",
    "dst_path = 'output/'\n",
    "os.makedirs(dst_path, exist_ok=True)\n",
    "\n",
    "anim, joint_names, frame_time, order = load(src_path)                             # Load data from bvh file\n",
    "\n",
    "def joint_index(joint_name):\n",
    "    return joint_names.index(joint_name)\n",
    "# thoughts: take a walk cycle, rotate the root by a few degrees on the downs of the walk cycle?\n",
    "# Make walk cycle a swim\n",
    "# Posture correction?\n",
    "# Exploring preserving the loop!!! This should be the focus\n",
    "# Smooth (delete half then linear interpolate between the two)\n",
    "# Maybe find the lowest point of the root and use that to get the downs\n",
    "# Same for the ups\n",
    "anim.positions[:,0,2] = 0 # freeze the root in place for looping\n",
    "frame_length = anim.positions.shape[0]\n",
    "# third value in rotations is a quaternion of x,y,z,w\n",
    "lowest_point = 0\n",
    "lowest_point_frame = -1\n",
    "for i in range(frame_length):\n",
    "    # Todo: This needs to be in world space ahhh\n",
    "    root_y_pos = anim.positions[i,0,1]\n",
    "    # I would assume I would be checking this backwards but it seems to work correctly\n",
    "    if(root_y_pos > lowest_point):\n",
    "        # print(\"New lowest point \" + str(root_y_pos) + \" at frame \" + str(i))\n",
    "        lowest_point = root_y_pos\n",
    "        lowest_point_frame = i\n",
    "rotate_peak_strength = 0.45\n",
    "# Bezier curve with a fraction of rotation applied each frame. For frame = 0 or frame = frame_length, rotation is 0. For frame = lowest_point, rotation is 1\n",
    "nodes = np.asfortranarray([[0, lowest_point_frame, frame_length], [0, rotate_peak_strength,0]])\n",
    "#todo: graph X Y and Z as a function of frame\n",
    "# nodes = np.asfortranarray([[0, lowest_point_frame, frame_length], [1,lowest_point, 1]])\n",
    "curve = bezier.Curve.from_nodes(nodes)\n",
    "ax = curve.plot(num_pts=frame_length)\n",
    "# Print the lowest point root rotate amount from matplotlib ax\n",
    "curve_yvals = ax.lines[0].get_ydata()\n",
    "#Evaluate the curve for the frame length to determine the Z component of the quaternion in anim.rotations\n",
    "curve_values = curve.evaluate_multi(np.linspace(0,frame_length, frame_length))\n",
    "# Array containing the evaluated curve values for each frame, with the first row as all all values and the second row as all 0s and the third row the new value\n",
    "# Spine 1, spine 2, spine 3\n",
    "joints_to_rotate = [\"Spine\",\"Spine2\",\"Spine1\",\"Head\"]\n",
    "apply_strength = [0.35,0.5,0.75,1]\n",
    "joints_info = np.array([[joint_index(j) for j in joints_to_rotate],apply_strength])\n",
    "for i in range(frame_length):\n",
    "    # print(curve_values[0,i])\n",
    "    # quat_array = np.array([0,0,anim.rotations[i,0].euler()[0,2] + np.clip(curve_yvals[i],0,1)])\n",
    "    for j in joints_info:\n",
    "        # print(\"Joint \" + str(j[0]) + \" apply strength \" + str(j[1]))\n",
    "        # Multiply by strength and clip to 1 (rot can't be above 1)\n",
    "        quat_array = np.array([anim.rotations[i,int(j[0])].euler()[0,2] + np.clip(curve_yvals[i] * j[1],0,1),0,0])\n",
    "        anim.rotations[i,int(j[0])] = Quaternions.from_euler(quat_array)\n",
    "\n",
    "\n",
    "# for i in range(frame_length):\n",
    "#     if i % 16 != 0:\n",
    "#         lerp_amount = i % 16 / 16\n",
    "#         current_z_rotation = anim.rotations[i,0].euler()[0,2]\n",
    "#         print(\"Current z rot \" + str(current_z_rotation))\n",
    "#         # Clip to limit of 1\n",
    "#         quat_array = np.array([0,0,current_z_rotation + np.clip((root_rotate_amount * lerp_amount),0,1)])\n",
    "#         print(\"New Z quaternion\" + str(quat_array))\n",
    "#         anim.rotations[i,0] = Quaternions.from_euler(quat_array)\n",
    "#         # print(anim.rotations[i,0])\n",
    "#         #np.quaternion.from_euler_angles(0, 0, np.deg2rad(root_rotate_amount * lerp_amount))\n",
    "\n",
    "\n",
    "# for i in range(frame_length):\n",
    "#     anim.positions[i,0,2] = 0\n",
    "save(os.path.join('output', 'output.bvh'), anim, joint_names, frame_time, order)   # Save data to bvh file"
   ]
  },
  {
   "cell_type": "markdown",
   "metadata": {},
   "source": [
    "anim is an instance of Animation class, which defines orients, offsets, translations, and rotations. Denote the number of frames as $F$, number of joint as $J$, then the dimension for each variables are:\n",
    "- orients: (J, Quaternion). Quaternion is class defined under common/Quaternions.py.\n",
    "- offsets: (J, 3)\n",
    "- positions: (F, J, 3)\n",
    "- rotations: (F, J, Quaternion)\n",
    "\n",
    "We can check the shape of each variable as follows:"
   ]
  },
  {
   "cell_type": "code",
   "execution_count": 2,
   "metadata": {},
   "outputs": [
    {
     "data": {
      "text/plain": [
       "(67, 4)"
      ]
     },
     "execution_count": 2,
     "metadata": {},
     "output_type": "execute_result"
    }
   ],
   "source": [
    "anim.orients.qs.shape"
   ]
  },
  {
   "cell_type": "code",
   "execution_count": 3,
   "metadata": {},
   "outputs": [
    {
     "data": {
      "text/plain": [
       "(67, 3)"
      ]
     },
     "execution_count": 3,
     "metadata": {},
     "output_type": "execute_result"
    }
   ],
   "source": [
    "anim.offsets.shape"
   ]
  },
  {
   "cell_type": "code",
   "execution_count": 4,
   "metadata": {},
   "outputs": [
    {
     "data": {
      "text/plain": [
       "(324, 67, 3)"
      ]
     },
     "execution_count": 4,
     "metadata": {},
     "output_type": "execute_result"
    }
   ],
   "source": [
    "anim.positions.shape"
   ]
  },
  {
   "cell_type": "code",
   "execution_count": 5,
   "metadata": {},
   "outputs": [
    {
     "data": {
      "text/plain": [
       "(324, 67, 4)"
      ]
     },
     "execution_count": 5,
     "metadata": {},
     "output_type": "execute_result"
    }
   ],
   "source": [
    "anim.rotations.qs.shape"
   ]
  },
  {
   "cell_type": "code",
   "execution_count": 63,
   "metadata": {},
   "outputs": [
    {
     "data": {
      "text/plain": [
       "['Hips',\n",
       " 'Spine',\n",
       " 'Spine1',\n",
       " 'Spine2',\n",
       " 'Neck',\n",
       " 'Head',\n",
       " 'HeadTop_End',\n",
       " 'LeftEye',\n",
       " 'RightEye',\n",
       " 'LeftShoulder',\n",
       " 'LeftArm',\n",
       " 'LeftForeArm',\n",
       " 'LeftHand',\n",
       " 'LeftHandThumb1',\n",
       " 'LeftHandThumb2',\n",
       " 'LeftHandThumb3',\n",
       " 'LeftHandThumb4',\n",
       " 'LeftHandIndex1',\n",
       " 'LeftHandIndex2',\n",
       " 'LeftHandIndex3',\n",
       " 'LeftHandIndex4',\n",
       " 'LeftHandMiddle1',\n",
       " 'LeftHandMiddle2',\n",
       " 'LeftHandMiddle3',\n",
       " 'LeftHandMiddle4',\n",
       " 'LeftHandRing1',\n",
       " 'LeftHandRing2',\n",
       " 'LeftHandRing3',\n",
       " 'LeftHandRing4',\n",
       " 'LeftHandPinky1',\n",
       " 'LeftHandPinky2',\n",
       " 'LeftHandPinky3',\n",
       " 'LeftHandPinky4',\n",
       " 'RightShoulder',\n",
       " 'RightArm',\n",
       " 'RightForeArm',\n",
       " 'RightHand',\n",
       " 'RightHandPinky1',\n",
       " 'RightHandPinky2',\n",
       " 'RightHandPinky3',\n",
       " 'RightHandPinky4',\n",
       " 'RightHandRing1',\n",
       " 'RightHandRing2',\n",
       " 'RightHandRing3',\n",
       " 'RightHandRing4',\n",
       " 'RightHandMiddle1',\n",
       " 'RightHandMiddle2',\n",
       " 'RightHandMiddle3',\n",
       " 'RightHandMiddle4',\n",
       " 'RightHandIndex1',\n",
       " 'RightHandIndex2',\n",
       " 'RightHandIndex3',\n",
       " 'RightHandIndex4',\n",
       " 'RightHandThumb1',\n",
       " 'RightHandThumb2',\n",
       " 'RightHandThumb3',\n",
       " 'RightHandThumb4',\n",
       " 'LeftUpLeg',\n",
       " 'LeftLeg',\n",
       " 'LeftFoot',\n",
       " 'LeftToeBase',\n",
       " 'LeftToe_End',\n",
       " 'RightUpLeg',\n",
       " 'RightLeg',\n",
       " 'RightFoot',\n",
       " 'RightToeBase',\n",
       " 'RightToe_End']"
      ]
     },
     "execution_count": 63,
     "metadata": {},
     "output_type": "execute_result"
    }
   ],
   "source": [
    "joint_names[:]"
   ]
  },
  {
   "cell_type": "markdown",
   "metadata": {},
   "source": [
    "### Practice: What shall we do to read the data for \"LeftShoulder\"?\n",
    "### Solution:"
   ]
  },
  {
   "cell_type": "code",
   "execution_count": 7,
   "metadata": {},
   "outputs": [
    {
     "name": "stdout",
     "output_type": "stream",
     "text": [
      "LeftShoulder id 9\n",
      "Frame 0 [ 0.99726561  0.00877797 -0.05641605 -0.04691997]\n",
      "Frame 1 [ 0.99738512  0.00882779 -0.06070663 -0.03820599]\n"
     ]
    }
   ],
   "source": [
    "left_shoulder_id = joint_names.index(\"LeftShoulder\")\n",
    "print('LeftShoulder id', left_shoulder_id)\n",
    "lshoulder_rotations = anim.rotations[:, left_shoulder_id]\n",
    "print('Frame 0', lshoulder_rotations.qs[0])    # (w, x, y, z)\n",
    "print('Frame 1', lshoulder_rotations.qs[1])"
   ]
  },
  {
   "cell_type": "markdown",
   "metadata": {},
   "source": [
    "## Part IV. Visualize data\n",
    "\n",
    "You could always import BVH files in softwares such as Maya, Unity, Motion Builder. We also provided code to visualize motion data to mp4 files for an easy checkup. Make sure you have installed ffmpeg before running visualization."
   ]
  },
  {
   "cell_type": "code",
   "execution_count": 3,
   "metadata": {},
   "outputs": [],
   "source": [
    "import os\n",
    "import argparse\n",
    "import numpy as np\n",
    "import glob\n",
    "\n",
    "import sys\n",
    "sys.path.append('common')\n",
    "\n",
    "dst_path = 'output/'\n",
    "\n",
    "from Visualize import visualize_anim\n",
    "\n",
    "name = os.path.basename(src_path).split('.')[0]\n",
    "existing_videos = glob.glob(os.path.join(dst_path, name + '*.mp4'))\n",
    "# If video already exists, delete it\n",
    "if len(existing_videos) > 0:\n",
    "    for video in existing_videos:\n",
    "        os.remove(video)\n",
    "visualize_anim(anim, title=None, img_dir=os.path.join(dst_path, name), multi_view=False,\n",
    "               video_path=os.path.join(dst_path, name + \".mp4\"))\n"
   ]
  },
  {
   "cell_type": "code",
   "execution_count": 4,
   "metadata": {},
   "outputs": [
    {
     "data": {
      "text/html": [
       "<video loop autoplay muted  >\n",
       " <source src=\"data:video/mp4;base64,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\" type=\"video/mp4\">\n",
       " Your browser does not support the video tag.\n",
       " </video>"
      ],
      "text/plain": [
       "<IPython.core.display.Video object>"
      ]
     },
     "execution_count": 4,
     "metadata": {},
     "output_type": "execute_result"
    }
   ],
   "source": [
    "from IPython.display import Video\n",
    "Video(os.path.join(dst_path, name + \"_3d\" + \".mp4\"), embed=True, html_attributes=\"loop autoplay muted\")\n"
   ]
  },
  {
   "cell_type": "markdown",
   "metadata": {},
   "source": [
    "### Reference:\n",
    "- Holden, D., Komura, T., & Saito, J. (2017). Phase-functioned neural networks for character control. ACM Transactions on Graphics (TOG), 36(4), 42.\n",
    "- https://research.cs.wisc.edu/graphics/Courses/cs-838-1999/Jeff/BVH.html"
   ]
  },
  {
   "cell_type": "code",
   "execution_count": null,
   "metadata": {},
   "outputs": [],
   "source": []
  }
 ],
 "metadata": {
  "kernelspec": {
   "display_name": "techanimenv",
   "language": "python",
   "name": "python3"
  },
  "language_info": {
   "codemirror_mode": {
    "name": "ipython",
    "version": 3
   },
   "file_extension": ".py",
   "mimetype": "text/x-python",
   "name": "python",
   "nbconvert_exporter": "python",
   "pygments_lexer": "ipython3",
   "version": "3.11.0"
  },
  "vscode": {
   "interpreter": {
    "hash": "d74d58a9d4b7bdc3b1c5e8b684ee0a6643e908ccaedd2a61e815cc8e68140c35"
   }
  }
 },
 "nbformat": 4,
 "nbformat_minor": 2
}
